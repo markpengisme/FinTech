{
 "cells": [
  {
   "cell_type": "markdown",
   "metadata": {},
   "source": [
    "# 0056 回測模型\n",
    "## 2007~2018\n",
    "> 策略1：每年投入固定資金，不賣，下跌x%買i股 策略2：除權息後買不賣"
   ]
  },
  {
   "cell_type": "code",
   "execution_count": 10,
   "metadata": {
    "collapsed": true
   },
   "outputs": [],
   "source": [
    "# 讀取csv(資料來源XQ匯入excel調整)\n",
    "#['時間(yyyy/mm/dd)', '開盤價', '最高價', '最低價', '收盤價', '漲跌幅(%)', '成交量']\n",
    "import csv\n",
    "temp=[]\n",
    "temp_all=[[] for i in range(19)]\n",
    "with open('0056.csv') as cf:\n",
    "    rows = csv.reader(cf)\n",
    "    for row in rows:\n",
    "        temp.append(row)\n",
    "        \n",
    "# str->float\n",
    "for i in range(len(temp)):\n",
    "    for j in range(len(temp[i])):\n",
    "        hh = temp[i][j]\n",
    "        if type(hh)==str:\n",
    "            try:\n",
    "                temp[i][j]=float(hh)\n",
    "            except:\n",
    "                pass\n",
    "            \n",
    "## 以年分割資料(2007年以後)\n",
    "itertemp = iter(temp)\n",
    "next(itertemp)\n",
    "for i in itertemp:\n",
    "    year = int(i[0][0:4])-2007\n",
    "    temp_all[year].append(i)\n",
    "    \n",
    "#除權息和金額    \n",
    "dividend={\n",
    "'2017/10/30':0.95,\n",
    "'2016/10/26':1.3,\n",
    "'2015/10/26':1,\n",
    "'2014/10/24':1,\n",
    "'2013/10/24':0.85,\n",
    "'2012/10/24':1.3,\n",
    "'2011/10/26':2.2,\n",
    "'2009/10/23':2\n",
    "}"
   ]
  },
  {
   "cell_type": "code",
   "execution_count": 11,
   "metadata": {},
   "outputs": [
    {
     "data": {
      "text/plain": [
       "TestResults(failed=0, attempted=2)"
      ]
     },
     "execution_count": 11,
     "metadata": {},
     "output_type": "execute_result"
    }
   ],
   "source": [
    "# 測試股利\n",
    "import doctest\n",
    "def test_dividend():\n",
    "    \"\"\"\n",
    "    >>> '2009/10/23' in dividend.keys()\n",
    "    True\n",
    "    >>> dividend[\"2009/10/23\"]\n",
    "    2\n",
    "    \"\"\"\n",
    "doctest.testmod()"
   ]
  },
  {
   "cell_type": "code",
   "execution_count": 12,
   "metadata": {
    "collapsed": true
   },
   "outputs": [],
   "source": [
    "def findbest(start_money,lower,lower_buy,temp):\n",
    "    \n",
    "    ##初始化金額、股數、flag\n",
    "    money=start_money\n",
    "    stock = 0\n",
    "    flag=False\n",
    "    \n",
    "    # 如果傳的是年就合併所有資料\n",
    "    if len(temp) < 30:\n",
    "        flag=True\n",
    "        test=[]\n",
    "        for i in temp:\n",
    "            test.extend(i)\n",
    "        temp=test\n",
    "    \n",
    "    ## 從有漲跌幅的開始到結束\n",
    "    count=1\n",
    "    for row in temp[2:-1]:\n",
    "        \n",
    "        #每年投入start_money\n",
    "        count+=1\n",
    "        if count%250==0:\n",
    "            money+=start_money\n",
    "            \n",
    "        #除權息\n",
    "        if row[0] in dividend.keys():\n",
    "#             print(\"===\\n new money\\t{}+{}股*{}元\\n===\".format(money,stock,dividend[row[0]]))\n",
    "            money+=stock*dividend[row[0]]\n",
    "           \n",
    "            \n",
    "                   \n",
    "        #跌買,花錢\n",
    "        if row[5]<-1*lower and money>lower_buy*row[4]:\n",
    "            stock+=lower_buy\n",
    "            money-=row[4]*lower_buy\n",
    "            if flag:\n",
    "                print(\"{}買進\\t剩餘:{:.0f}元\\t剩餘:{}股\".format(row[0],money,stock))\n",
    "        \n",
    "    total = int(money+row[4]*stock)\n",
    "    \n",
    "    #年回測\n",
    "    if flag:\n",
    "        print(\"-------------------------------------\")\n",
    "        print(\"如果漲跌{}%,買{}股\".format(lower,lower_buy))\n",
    "        print(\"結:total={},money={},stock={}\".format(total,money,stock))\n",
    "        print(\"淨利:%d萬\\t總投入%d萬\"%((total-int(count/250+1)*start_money)/10000,(int(count/250+1)*start_money)/10000))\n",
    "        \n",
    "\n",
    "    #全部回測，而且只取賺的,return 總投入(萬),總金額(萬),現金(萬),股數  \n",
    "    elif total > 0:\n",
    "        return [int(count/250+1)*start_money/10000,total/10000,money/10000,stock]"
   ]
  },
  {
   "cell_type": "code",
   "execution_count": 13,
   "metadata": {},
   "outputs": [
    {
     "name": "stdout",
     "output_type": "stream",
     "text": [
      "Find best parameter\n",
      "===================\n",
      "如果跌0.5%,買14000股\n",
      "結:total=185.082萬元,money=32.818萬元,stock=56000\n",
      "起始資金10萬元，總投入110萬元\n",
      "---------------------------------------------\n",
      "如果跌0.5%,買15000股\n",
      "結:total=204.745萬元,money=0.82萬元,stock=75000\n",
      "起始資金11萬元，總投入121萬元\n",
      "---------------------------------------------\n",
      "如果跌0.5%,買16000股\n",
      "結:total=220.688萬元,money=3.168萬元,stock=80000\n",
      "起始資金12萬元，總投入132萬元\n",
      "---------------------------------------------\n",
      "如果跌0.5%,買10000股\n",
      "結:total=240.18萬元,money=22.66萬元,stock=80000\n",
      "起始資金13萬元，總投入143萬元\n",
      "---------------------------------------------\n",
      "如果跌0.5%,買19000股\n",
      "結:total=260.077萬元,money=1.7720000000000058萬元,stock=95000\n",
      "起始資金14萬元，總投入154萬元\n",
      "---------------------------------------------\n",
      "如果跌0.5%,買21000股\n",
      "結:total=277.623萬元,money=49.227萬元,stock=84000\n",
      "起始資金15萬元，總投入165萬元\n",
      "---------------------------------------------\n",
      "如果跌0.5%,買12000股\n",
      "結:total=294.14萬元,money=0.488萬元,stock=108000\n",
      "起始資金16萬元，總投入176萬元\n",
      "---------------------------------------------\n",
      "如果跌2.5%,買25000股\n",
      "結:total=315.55萬元,money=43.65萬元,stock=100000\n",
      "起始資金17萬元，總投入187萬元\n",
      "---------------------------------------------\n",
      "如果跌0.5%,買25000股\n",
      "結:total=332.075萬元,money=60.175萬元,stock=100000\n",
      "起始資金18萬元，總投入198萬元\n",
      "---------------------------------------------\n",
      "如果跌0.5%,買26000股\n",
      "結:total=354.158萬元,money=0.688萬元,stock=130000\n",
      "起始資金19萬元，總投入209萬元\n",
      "---------------------------------------------\n",
      "如果跌0.5%,買28000股\n",
      "結:total=370.164萬元,money=65.636萬元,stock=112000\n",
      "起始資金20萬元，總投入220萬元\n",
      "---------------------------------------------\n",
      "如果跌0.5%,買16000股\n",
      "結:total=387.096萬元,money=39.064萬元,stock=128000\n",
      "起始資金21萬元，總投入231萬元\n",
      "---------------------------------------------\n",
      "如果跌0.5%,買30000股\n",
      "結:total=409.49萬元,money=1.64萬元,stock=150000\n",
      "起始資金22萬元，總投入242萬元\n",
      "---------------------------------------------\n",
      "如果跌0.5%,買32000股\n",
      "結:total=424.616萬元,money=76.584萬元,stock=128000\n",
      "起始資金23萬元，總投入253萬元\n",
      "---------------------------------------------\n",
      "如果跌2.5%,買35000股\n",
      "結:total=442.535萬元,money=61.875萬元,stock=140000\n",
      "起始資金24萬元，總投入264萬元\n",
      "---------------------------------------------\n",
      "如果跌0.5%,買34000股\n",
      "結:total=464.822萬元,money=2.592萬元,stock=170000\n",
      "起始資金25萬元，總投入275萬元\n",
      "---------------------------------------------\n",
      "如果跌0.5%,買20000股\n",
      "結:total=480.36萬元,money=45.32萬元,stock=160000\n",
      "起始資金26萬元，總投入286萬元\n",
      "---------------------------------------------\n",
      "如果跌0.5%,買37000股\n",
      "結:total=503.571萬元,money=0.556萬元,stock=185000\n",
      "起始資金27萬元，總投入297萬元\n",
      "---------------------------------------------\n",
      "如果跌0.5%,買38000股\n",
      "結:total=520.154萬元,money=3.5440000000000116萬元,stock=190000\n",
      "起始資金28萬元，總投入308萬元\n",
      "---------------------------------------------\n",
      "如果跌0.5%,買40000股\n",
      "結:total=533.52萬元,money=98.48萬元,stock=160000\n",
      "起始資金29萬元，總投入319萬元\n",
      "---------------------------------------------\n",
      "如果跌0.5%,買41000股\n",
      "結:total=558.903萬元,money=1.5080000000000116萬元,stock=205000\n",
      "起始資金30萬元，總投入330萬元\n",
      "---------------------------------------------\n"
     ]
    }
   ],
   "source": [
    "print(\"Find best parameter\")\n",
    "print(\"===================\")\n",
    "##跑回側\n",
    "# x=每期投入幾萬元(range)\n",
    "# i*10=lowerbound\n",
    "# j*100=buy\n",
    "data=[]\n",
    "for x in range(10,31,1):\n",
    "    money=x*10000\n",
    "    earn_max=[0,0,0,0]\n",
    "    best_parameter=[0,0]\n",
    "    for i in range(100,-1,-5):\n",
    "        for j in range(0,501,10):\n",
    "            try:\n",
    "                earn=findbest(money,i/10,j*100,temp)\n",
    "                if earn_max[1]<earn[1]:\n",
    "                    earn_max=earn.copy()\n",
    "                    best_parameter=[i/10,j*100]\n",
    "            except:\n",
    "                pass\n",
    "                        \n",
    "    data.append([x,best_parameter,earn_max])\n",
    "    \n",
    "    print(\"如果跌{0[0]}%,買{0[1]}股\".format(best_parameter))\n",
    "    print(\"結:total={0[1]}萬元,money={0[2]}萬元,stock={0[3]}\".format(earn_max))\n",
    "    print(\"起始資金{}萬元，總投入{}萬元\".format(x,int(earn_max[0])))\n",
    "    print('---------------------------------------------')"
   ]
  },
  {
   "cell_type": "code",
   "execution_count": 14,
   "metadata": {},
   "outputs": [
    {
     "data": {
      "text/plain": [
       "Counter({'[0.5, 10000]': 1,\n",
       "         '[0.5, 12000]': 1,\n",
       "         '[0.5, 14000]': 1,\n",
       "         '[0.5, 15000]': 1,\n",
       "         '[0.5, 16000]': 2,\n",
       "         '[0.5, 19000]': 1,\n",
       "         '[0.5, 20000]': 1,\n",
       "         '[0.5, 21000]': 1,\n",
       "         '[0.5, 25000]': 1,\n",
       "         '[0.5, 26000]': 1,\n",
       "         '[0.5, 28000]': 1,\n",
       "         '[0.5, 30000]': 1,\n",
       "         '[0.5, 32000]': 1,\n",
       "         '[0.5, 34000]': 1,\n",
       "         '[0.5, 37000]': 1,\n",
       "         '[0.5, 38000]': 1,\n",
       "         '[0.5, 40000]': 1,\n",
       "         '[0.5, 41000]': 1,\n",
       "         '[2.5, 25000]': 1,\n",
       "         '[2.5, 35000]': 1})"
      ]
     },
     "execution_count": 14,
     "metadata": {},
     "output_type": "execute_result"
    }
   ],
   "source": [
    "## 統計\n",
    "from collections import Counter\n",
    "test=[str(i[1]) for i in data]\n",
    "counter=Counter(test)\n",
    "counter"
   ]
  },
  {
   "cell_type": "code",
   "execution_count": 35,
   "metadata": {
    "scrolled": true
   },
   "outputs": [
    {
     "name": "stdout",
     "output_type": "stream",
     "text": [
      "2008/12/29買進\t剩餘:28960元\t剩餘:16000股\n",
      "2011/12/19買進\t剩餘:2400元\t剩餘:32000股\n",
      "2014/1/6買進\t剩餘:66560元\t剩餘:48000股\n",
      "2016/1/20買進\t剩餘:73120元\t剩餘:64000股\n",
      "2018/1/30買進\t剩餘:34560元\t剩餘:80000股\n",
      "-------------------------------------\n",
      "如果漲跌0.5%,買16000股\n",
      "結:total=2209760,money=34560.0,stock=80000\n",
      "淨利:88萬\t總投入132萬\n"
     ]
    }
   ],
   "source": [
    "#年回測\n",
    "findbest(120000,0.5,16000,temp_all[0:-1])"
   ]
  },
  {
   "cell_type": "code",
   "execution_count": 31,
   "metadata": {
    "collapsed": true
   },
   "outputs": [],
   "source": [
    "# 2010/7/6\n",
    "class Test():\n",
    " \n",
    "    def __init__(self,add_money):\n",
    "        self.add_money = add_money\n",
    "        self.stock = 0\n",
    "        self.money = add_money\n",
    "        self.buy=[\n",
    "        [1000000000,0],#2008\n",
    "        [21.76,2],#2009\n",
    "        [1000000000,0],#2010\n",
    "        [23.0,2.2],#2011\n",
    "        [22.38,1.3],#2012\n",
    "        [23.31,1],#2013\n",
    "        [22.75,0.85],#2014\n",
    "        [21.93,1],#2015\n",
    "        [23.79,1.3],#2016\n",
    "        [25.5,0.95],#2017\n",
    "        [1000000000,0]#2018\n",
    "        ]\n",
    "    \n",
    "    def go(self):\n",
    "        \n",
    "        for i in range(len(self.buy)):\n",
    "            self.money += self.stock*self.buy[i][1]\n",
    "            buystock = int(self.money/self.buy[i][0]/1000)*1000\n",
    "            self.stock += buystock\n",
    "            self.money = self.money-buystock*self.buy[i][0]+self.add_money\n",
    "            print(self.money,self.stock)\n",
    "            \n",
    "            \n",
    "    def total(self):\n",
    "        \n",
    "        print(\"結:total={}元,money={}元,stock={}\".format(self.stock*27.23+self.money,self.money,self.stock))\n",
    "        "
   ]
  },
  {
   "cell_type": "code",
   "execution_count": 32,
   "metadata": {},
   "outputs": [
    {
     "name": "stdout",
     "output_type": "stream",
     "text": [
      "240000 0\n",
      "120639.99999999997 11000\n",
      "240639.99999999997 11000\n",
      "131840.0 22000\n",
      "123780.0 29000\n",
      "132920.0 35000\n",
      "123420.0 42000\n",
      "131910.0 49000\n",
      "125290.0 57000\n",
      "120940.0 64000\n",
      "240940.0 64000\n",
      "結:total=1983660.0元,money=240940.0元,stock=64000\n"
     ]
    }
   ],
   "source": [
    "test=Test(120000)\n",
    "test.go()\n",
    "test.total()"
   ]
  },
  {
   "cell_type": "markdown",
   "metadata": {
    "collapsed": true
   },
   "source": [
    "# 只用漲跌幅找不太出結果而且比0055爛"
   ]
  },
  {
   "cell_type": "code",
   "execution_count": null,
   "metadata": {
    "collapsed": true
   },
   "outputs": [],
   "source": []
  }
 ],
 "metadata": {
  "kernelspec": {
   "display_name": "Python 3",
   "language": "python",
   "name": "python3"
  },
  "language_info": {
   "codemirror_mode": {
    "name": "ipython",
    "version": 3
   },
   "file_extension": ".py",
   "mimetype": "text/x-python",
   "name": "python",
   "nbconvert_exporter": "python",
   "pygments_lexer": "ipython3",
   "version": "3.6.5"
  }
 },
 "nbformat": 4,
 "nbformat_minor": 2
}
